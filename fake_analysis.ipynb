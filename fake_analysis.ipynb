{
  "nbformat": 4,
  "nbformat_minor": 0,
  "metadata": {
    "colab": {
      "provenance": [],
      "toc_visible": true,
      "authorship_tag": "ABX9TyOz7d8/tyKbq0en308ZMGcS",
      "include_colab_link": true
    },
    "kernelspec": {
      "name": "python3",
      "display_name": "Python 3"
    },
    "language_info": {
      "name": "python"
    }
  },
  "cells": [
    {
      "cell_type": "markdown",
      "metadata": {
        "id": "view-in-github",
        "colab_type": "text"
      },
      "source": [
        "<a href=\"https://colab.research.google.com/github/vladislavlisin/fake_review_detection/blob/main/fake_analysis.ipynb\" target=\"_parent\"><img src=\"https://colab.research.google.com/assets/colab-badge.svg\" alt=\"Open In Colab\"/></a>"
      ]
    },
    {
      "cell_type": "markdown",
      "source": [
        "# **Start**"
      ],
      "metadata": {
        "id": "jPU3gzd7sDZc"
      }
    },
    {
      "cell_type": "code",
      "execution_count": null,
      "metadata": {
        "id": "dWTUFgePr3TT"
      },
      "outputs": [],
      "source": [
        "# работаем в google colab\n",
        "# подключаем гугл диск с данными\n",
        "from google.colab import drive\n",
        "drive.mount('/content/drive')"
      ]
    },
    {
      "cell_type": "code",
      "source": [
        "lst = [0.1, 0.2, 1, 0, 0.5, 0.3, 0.9, 0.12311]"
      ],
      "metadata": {
        "id": "gjUh8UH7sG96"
      },
      "execution_count": 9,
      "outputs": []
    },
    {
      "cell_type": "code",
      "source": [
        "def min_max(lst):\n",
        "  maxx = max(lst)\n",
        "  minn = min(lst)\n",
        "\n",
        "  new = []\n",
        "\n",
        "  for i in lst:\n",
        "    new.append(abs((2*i - minn - maxx)/(minn + maxx)))\n",
        "\n",
        "  return new"
      ],
      "metadata": {
        "id": "rGU7oJVisazC"
      },
      "execution_count": 10,
      "outputs": []
    },
    {
      "cell_type": "code",
      "source": [
        "new_lst = min_max(lst)"
      ],
      "metadata": {
        "id": "Pq-WY1w8s1N9"
      },
      "execution_count": 11,
      "outputs": []
    },
    {
      "cell_type": "code",
      "source": [
        "new_lst"
      ],
      "metadata": {
        "colab": {
          "base_uri": "https://localhost:8080/"
        },
        "id": "k3ZE8Skos706",
        "outputId": "0bc1c39f-b06e-4938-dc0a-f0d7f04f072a"
      },
      "execution_count": 12,
      "outputs": [
        {
          "output_type": "execute_result",
          "data": {
            "text/plain": [
              "[0.8, 0.6, 1.0, 1.0, 0.0, 0.4, 0.8, 0.75378]"
            ]
          },
          "metadata": {},
          "execution_count": 12
        }
      ]
    }
  ]
}